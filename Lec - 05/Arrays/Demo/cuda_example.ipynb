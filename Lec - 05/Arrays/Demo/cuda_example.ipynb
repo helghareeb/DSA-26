{
 "cells": [
  {
   "cell_type": "markdown",
   "metadata": {},
   "source": [
    "# بسم الله الرحمن الرحيم"
   ]
  },
  {
   "cell_type": "markdown",
   "metadata": {},
   "source": [
    "import numpy as np\n",
    "import time\n",
    "\n",
    "from numba import vectorize, cuda\n",
    "\n",
    "@vectorize(['float32(float32, float32)'], target='cuda')\n",
    "def VectorAdd(a, b):\n",
    "    return a + b\n",
    "\n",
    "def main():\n",
    "    N = 32000000\n",
    "\n",
    "    A = np.ones(N, dtype=np.float32)\n",
    "    B = np.ones(N, dtype=np.float32)\n",
    "\n",
    "    start = time.time()\n",
    "    C = VectorAdd(A, B)\n",
    "    vector_add_time = time.time() - start\n",
    "\n",
    "    print \"C[:5] = \" + str(C[:5])\n",
    "    print \"C[-5:] = \" + str(C[-5:])\n",
    "\n",
    "    print \"VectorAdd took for % seconds\" % vector_add_time\n",
    "\n",
    "if __name__=='__main__':\n",
    "    main()"
   ]
  },
  {
   "cell_type": "code",
   "execution_count": 1,
   "metadata": {},
   "outputs": [],
   "source": [
    "import numpy as np"
   ]
  },
  {
   "cell_type": "code",
   "execution_count": 2,
   "metadata": {},
   "outputs": [],
   "source": [
    "import time"
   ]
  },
  {
   "cell_type": "code",
   "execution_count": 3,
   "metadata": {},
   "outputs": [],
   "source": [
    "from numba import vectorize, cuda"
   ]
  },
  {
   "cell_type": "code",
   "execution_count": 5,
   "metadata": {},
   "outputs": [],
   "source": [
    "@vectorize(['float32(float32, float32)'], target='cuda')\n",
    "def VectorAdd(a, b):\n",
    "    return a + b\n",
    "\n",
    "def main():\n",
    "    N = 32000000\n",
    "\n",
    "    A = np.ones(N, dtype=np.float32)\n",
    "    B = np.ones(N, dtype=np.float32)\n",
    "\n",
    "    start = time.time()\n",
    "    C = VectorAdd(A, B)\n",
    "    vector_add_time = time.time() - start\n",
    "\n",
    "    print(\"C[:5] = \" + str(C[:5]))\n",
    "    print(\"C[-5:] = \" + str(C[-5:]))\n",
    "\n",
    "    print(\"VectorAdd took for % seconds\" % vector_add_time)"
   ]
  },
  {
   "cell_type": "code",
   "execution_count": 6,
   "metadata": {},
   "outputs": [
    {
     "name": "stdout",
     "output_type": "stream",
     "text": [
      "C[:5] = [2. 2. 2. 2. 2.]\n",
      "C[-5:] = [2. 2. 2. 2. 2.]\n",
      "VectorAdd took for 1.1341240406036377econds\n"
     ]
    }
   ],
   "source": [
    "main()"
   ]
  },
  {
   "cell_type": "code",
   "execution_count": null,
   "metadata": {},
   "outputs": [],
   "source": []
  }
 ],
 "metadata": {
  "kernelspec": {
   "display_name": "Python 3",
   "language": "python",
   "name": "python3"
  },
  "language_info": {
   "codemirror_mode": {
    "name": "ipython",
    "version": 3
   },
   "file_extension": ".py",
   "mimetype": "text/x-python",
   "name": "python",
   "nbconvert_exporter": "python",
   "pygments_lexer": "ipython3",
   "version": "3.7.3"
  }
 },
 "nbformat": 4,
 "nbformat_minor": 2
}
